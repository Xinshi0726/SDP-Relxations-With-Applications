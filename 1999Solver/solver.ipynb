{
 "cells": [
  {
   "cell_type": "code",
   "execution_count": 313,
   "metadata": {
    "collapsed": true
   },
   "outputs": [],
   "source": [
    "import numpy as np\n",
    "import pandas as pd\n",
    "import cvxpy as cp\n",
    "from geopy import distance\n",
    "import time\n",
    "from python_tsp.exact import solve_tsp_dynamic_programming\n"
   ]
  },
  {
   "cell_type": "code",
   "execution_count": 314,
   "outputs": [],
   "source": [
    "data = pd.read_csv('../Dataset/fri26_d.txt',delim_whitespace=True,header=None).to_numpy()"
   ],
   "metadata": {
    "collapsed": false
   }
  },
  {
   "cell_type": "code",
   "execution_count": 315,
   "outputs": [
    {
     "name": "stdout",
     "output_type": "stream",
     "text": [
      "[(-60.485814, 54.255392), (42.146226, -80.766661), (43.011783, 157.533311), (53.804065, -63.554957), (-8.430854, 108.065752), (78.892886, -63.292731), (-51.563937, 32.495276), (42.863211, 23.720077), (36.964729, 114.587972), (24.544075, 57.819267), (-20.415646, -2.948854), (70.236611, 111.343301), (25.893276, -5.108743), (-37.348502, -73.438034), (-59.133107, -166.619094)]\n",
      "Distance Matrix is:\n",
      "\n",
      "[[    0.     16376.8701 14721.7407 16321.7927  7274.6252 17089.577\n",
      "   1668.5991 11787.9868 12112.6268  9429.3313  6272.9394 15178.6808\n",
      "  10970.5456  8164.5264  6275.0342]\n",
      " [16376.8701     0.      8923.6942  1816.0008 16170.3012  4163.672\n",
      "  15003.3339  7949.5419 11106.4048 11487.4973 10554.2908  7502.0552\n",
      "   6987.5798  8834.4792 13684.0325]\n",
      " [14721.7407  8923.6942     0.      8585.8831  7579.669   6216.7513\n",
      "  15855.7477  9438.5757  3687.6214  8928.4293 16914.3096  3966.8291\n",
      "  12171.539  15702.0872 11791.8034]\n",
      " [16321.7927  1816.0008  8585.8831     0.     14916.6466  2797.434\n",
      "  14672.0612  6164.5633  9945.6447  9671.5592 10050.9239  6238.3391\n",
      "   5669.1535 10144.0041 15499.8446]\n",
      " [ 7274.6252 16170.3012  7579.669  14916.6466     0.     12160.0452\n",
      "   8281.1649 10185.1605  5070.8511  6559.654  11838.5616  8731.2571\n",
      "  12737.3155 14934.0433  8939.679 ]\n",
      " [17089.577   4163.672   6216.7513  2797.434  12160.0452     0.\n",
      "  15691.1283  5301.5926  7149.0626  7963.3361 11617.3097  3443.4711\n",
      "   6530.7738 12913.8278 16645.0483]\n",
      " [ 1668.5991 15003.3339 15855.7477 14672.0612  8281.1649 15691.1283\n",
      "      0.     10496.6781 12627.8833  8787.1901  4624.3189 14891.0527\n",
      "   9335.0427  7820.5063  7611.0461]\n",
      " [11787.9868  7949.5419  9438.5757  6164.5633 10185.1605  5301.5926\n",
      "  10496.6781     0.      7402.5529  3718.6248  7520.9431  5510.6191\n",
      "   3225.1544 13222.5943 18060.8652]\n",
      " [12112.6268 11106.4048  3687.6214  9945.6447  5070.8511  7149.0626\n",
      "  12627.8833  7402.5529     0.      5524.7876 13764.5777  3707.8352\n",
      "  10623.7665 19311.1958 12862.6803]\n",
      " [ 9429.3313 11487.4973  8928.4293  9671.5592  6559.654   7963.3361\n",
      "   8787.1901  3718.6248  5524.7876     0.      8247.798   6118.4957\n",
      "   6278.8451 15212.9989 14850.0317]\n",
      " [ 6272.9394 10554.2908 16914.3096 10050.9239 11838.5616 11617.3097\n",
      "   4624.3189  7520.9431 13764.5777  8247.798      0.     13031.2145\n",
      "   5128.7081  6969.5951 11062.4055]\n",
      " [15178.6808  7502.0552  3966.8291  6238.3391  8731.2571  3443.4711\n",
      "  14891.0527  5510.6191  3707.8352  6118.4957 13031.2145     0.\n",
      "   8243.5711 16332.7783 15721.4661]\n",
      " [10970.5456  6987.5798 12171.539   5669.1535 12737.3155  6530.7738\n",
      "   9335.0427  3225.1544 10623.7665  6278.8451  5128.7081  8243.5711\n",
      "      0.      9997.8201 16043.6222]\n",
      " [ 8164.5264  8834.4792 15702.0872 10144.0041 14934.0433 12913.8278\n",
      "   7820.5063 13222.5943 19311.1958 15212.9989  6969.5951 16332.7783\n",
      "   9997.8201     0.      6702.5654]\n",
      " [ 6275.0342 13684.0325 11791.8034 15499.8446  8939.679  16645.0483\n",
      "   7611.0461 18060.8652 12862.6803 14850.0317 11062.4055 15721.4661\n",
      "  16043.6222  6702.5654     0.    ]]\n"
     ]
    }
   ],
   "source": [
    "np.random.seed(42)\n",
    "import random\n",
    "\n",
    "n = 15  # number of points to generate\n",
    "points = []\n",
    "\n",
    "for i in range(n):\n",
    "    lat = round(random.uniform(-90, 90), 6)\n",
    "    lon = round(random.uniform(-180, 180), 6)\n",
    "    points.append((lat, lon))\n",
    "\n",
    "print(points)\n",
    "\n",
    "\n",
    "################################################\n",
    "# Building distance matrix\n",
    "################################################\n",
    "n = len(points)\n",
    "C = np.zeros((n,n))\n",
    "\n",
    "for i in range(0, n):\n",
    "    for j in range(0, len(points)):\n",
    "        C[i,j] = distance.distance(points[i], points[j]).km\n",
    "\n",
    "# Showing distance matrix\n",
    "print('Distance Matrix is:\\n')\n",
    "print(np.round(C,4))"
   ],
   "metadata": {
    "collapsed": false
   }
  },
  {
   "cell_type": "code",
   "execution_count": 316,
   "outputs": [
    {
     "name": "stdout",
     "output_type": "stream",
     "text": [
      "--- 0.865684986114502 seconds ---\n",
      "The optimal value is 67519.30701060542\n"
     ]
    }
   ],
   "source": [
    "# Generate a random SDP.\n",
    "n = C.shape[0]\n",
    "np.random.seed(1)\n",
    "# C = data\n",
    "e = np.ones((n,1))\n",
    "I = np.eye(n)\n",
    "J = np.ones((n,n))\n",
    "constant =  2-2*np.cos((2*np.pi)/n)\n",
    "# Define and solve the CVXPY problem.\n",
    "# Create a symmetric matrix variable.\n",
    "X = cp.Variable((n,n), symmetric=True)\n",
    "# The operator >> denotes matrix inequality.\n",
    "constraints = [\n",
    "    X[i][i] == 0 for i in range(n)\n",
    "]\n",
    "constraints += [\n",
    "    X@e == 2*e\n",
    "]\n",
    "constraints += [\n",
    "    X[i][j] >= 0 for i in range(n) for j in range(n)\n",
    "]\n",
    "constraints += [\n",
    "    X[i][j] <= 1 for i in range(n) for j in range(n)\n",
    "]\n",
    "constraints += [\n",
    "    2*I-X+J-(constant*I) >> 0\n",
    "]\n",
    "prob = cp.Problem(cp.Minimize(1/2*cp.trace(C @ X)),\n",
    "                  constraints)\n",
    "start_time = time.time()\n",
    "prob.solve(verbose=False)\n",
    "print(\"--- %s seconds ---\" % (time.time() - start_time))\n",
    "# Print result.\n",
    "print(\"The optimal value is\", prob.value)\n",
    "# print(\"A solution X is\")\n",
    "# print(X.value)\n"
   ],
   "metadata": {
    "collapsed": false
   }
  },
  {
   "cell_type": "code",
   "execution_count": 317,
   "outputs": [],
   "source": [
    "# start_time = time.time()\n",
    "# permutation, distance2 = solve_tsp_dynamic_programming(C)\n",
    "# print(\"--- %s seconds ---\" % (time.time() - start_time))"
   ],
   "metadata": {
    "collapsed": false
   }
  },
  {
   "cell_type": "code",
   "execution_count": 318,
   "outputs": [],
   "source": [
    "# permutation"
   ],
   "metadata": {
    "collapsed": false
   }
  },
  {
   "cell_type": "code",
   "execution_count": 319,
   "outputs": [
    {
     "name": "stdout",
     "output_type": "stream",
     "text": [
      "--- 0.16625475883483887 seconds ---\n",
      "Optimal tour: [0, 14, 13, 10, 6, 0, 14, 13, 10, 6, 0, 14, 13, 10, 6, 0]\n",
      "Length: 67513\n"
     ]
    }
   ],
   "source": [
    "################################################\n",
    "# Solving the integer programming problem\n",
    "################################################\n",
    "# Define the decision variables\n",
    "x = cp.Variable((n, n), boolean=True)\n",
    "\n",
    "# Define the objective function\n",
    "obj = cp.Minimize(cp.sum(cp.multiply(C, x)))\n",
    "\n",
    "# Define the constraints\n",
    "constraints = []\n",
    "for i in range(n):\n",
    "    constraints.append(cp.sum(x[i, :]) == 1)  # each city is visited exactly once\n",
    "for j in range(n):\n",
    "    constraints.append(cp.sum(x[:, j]) == 1)  # each city is left exactly once\n",
    "for i in range(n):\n",
    "    for j in range(n):\n",
    "        constraints.append(x[i, j] + x[j, i] <= 1)  # prevent subtours\n",
    "\n",
    "# Define the problem and solve it\n",
    "prob = cp.Problem(obj, constraints)\n",
    "start_time = time.time()\n",
    "prob.solve()\n",
    "print(\"--- %s seconds ---\" % (time.time() - start_time))\n",
    "# Print the optimal tour and its length\n",
    "tour = [0]\n",
    "i = 0\n",
    "while len(tour) < n:\n",
    "    j = np.argmax(x.value[i, :])\n",
    "    tour.append(j)\n",
    "    i = j\n",
    "tour.append(0)\n",
    "print('Optimal tour:', tour)\n",
    "print('Length:', round(obj.value))"
   ],
   "metadata": {
    "collapsed": false
   }
  },
  {
   "cell_type": "code",
   "execution_count": 320,
   "outputs": [],
   "source": [
    "def thirdMax(nums):\n",
    "    nums.sort(reverse = True)\n",
    "    count = 1\n",
    "    previous = nums[0]\n",
    "\n",
    "    for i in range(len(nums)):\n",
    "        if nums[i] != previous:\n",
    "            count = count + 1\n",
    "            previous = nums[i]\n",
    "        if count == 2:\n",
    "            return nums[i]\n",
    "    return nums[0]"
   ],
   "metadata": {
    "collapsed": false
   }
  },
  {
   "cell_type": "code",
   "execution_count": 321,
   "outputs": [],
   "source": [
    "def thirdMax(nums):\n",
    "    nums.sort(reverse = True)\n",
    "    count = 1\n",
    "    previous = nums[0]\n",
    "\n",
    "    for i in range(len(nums)):\n",
    "        if nums[i] != previous:\n",
    "            count = count + 1\n",
    "            previous = nums[i]\n",
    "        if count == 3:\n",
    "            return nums[i]\n",
    "    return nums[0]"
   ],
   "metadata": {
    "collapsed": false
   }
  },
  {
   "cell_type": "code",
   "execution_count": 322,
   "outputs": [],
   "source": [
    "Res = X.value\n",
    "out = [[1 if X.value[i][j]>thirdMax(X.value[i].tolist()) else 0 for i in range(X.shape[0])]for j in range(X.shape[1])]"
   ],
   "metadata": {
    "collapsed": false
   }
  },
  {
   "cell_type": "code",
   "execution_count": 323,
   "outputs": [
    {
     "data": {
      "text/plain": "<Figure size 640x480 with 1 Axes>",
      "image/png": "[encoded data removed]"
     },
     "metadata": {},
     "output_type": "display_data"
    }
   ],
   "source": [
    "import numpy as np\n",
    "import matplotlib.pyplot as plt\n",
    "\n",
    "# Define the latitude and longitude of the points\n",
    "lat = [i[0] for i in points]\n",
    "lon = [i[1] for i in points]\n",
    "\n",
    "# Define the adjacency matrix\n",
    "adj_matrix = np.array(out)\n",
    "\n",
    "# Plot the points and the edges\n",
    "plt.scatter(lon, lat, color='b', zorder=2)\n",
    "for i in range(adj_matrix.shape[0]):\n",
    "    for j in range(adj_matrix.shape[1]):\n",
    "        if adj_matrix[i,j] == 1:\n",
    "            plt.plot([lon[i], lon[j]], [lat[i], lat[j]], color='r', zorder=1)\n",
    "\n",
    "# Set the axis limits and labels\n",
    "plt.xlim(min(lon)-0.02, max(lon)+0.02)\n",
    "plt.ylim(min(lat)-0.02, max(lat)+0.02)\n",
    "plt.xlabel('Longitude')\n",
    "plt.ylabel('Latitude')\n",
    "plt.show()\n"
   ],
   "metadata": {
    "collapsed": false
   }
  },
  {
   "cell_type": "code",
   "execution_count": 324,
   "outputs": [
    {
     "data": {
      "text/plain": "<Figure size 640x480 with 1 Axes>",
      "image/png": "[encoded data removed]"
     },
     "metadata": {},
     "output_type": "display_data"
    }
   ],
   "source": [
    "import numpy as np\n",
    "import matplotlib.pyplot as plt\n",
    "\n",
    "# Define the latitude and longitude of the points\n",
    "lat = [i[0] for i in points]\n",
    "lon = [i[1] for i in points]\n",
    "\n",
    "# Define the adjacency matrix\n",
    "adj_matrix = np.array(out)\n",
    "\n",
    "# Plot the points and the edges\n",
    "plt.scatter(lon, lat, color='b', zorder=2)\n",
    "for i in range(adj_matrix.shape[0]):\n",
    "    for j in range(adj_matrix.shape[1]):\n",
    "        if adj_matrix[i,j] == 1:\n",
    "            plt.plot([lon[i], lon[j]], [lat[i], lat[j]], color='r', zorder=1)\n",
    "\n",
    "# Set the axis limits and labels\n",
    "plt.xlim(min(lon)-0.02, max(lon)+0.02)\n",
    "plt.ylim(min(lat)-0.02, max(lat)+0.02)\n",
    "plt.xlabel('Longitude')\n",
    "plt.ylabel('Latitude')\n",
    "\n",
    "# Show the plot\n",
    "plt.show()\n"
   ],
   "metadata": {
    "collapsed": false
   }
  },
  {
   "cell_type": "code",
   "execution_count": 324,
   "outputs": [],
   "source": [],
   "metadata": {
    "collapsed": false
   }
  }
 ],
 "metadata": {
  "kernelspec": {
   "display_name": "Python 3",
   "language": "python",
   "name": "python3"
  },
  "language_info": {
   "codemirror_mode": {
    "name": "ipython",
    "version": 2
   },
   "file_extension": ".py",
   "mimetype": "text/x-python",
   "name": "python",
   "nbconvert_exporter": "python",
   "pygments_lexer": "ipython2",
   "version": "2.7.6"
  }
 },
 "nbformat": 4,
 "nbformat_minor": 0
}
