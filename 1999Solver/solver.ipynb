{
 "cells": [
  {
   "cell_type": "code",
   "execution_count": 53,
   "metadata": {
    "collapsed": true
   },
   "outputs": [],
   "source": [
    "import numpy as np\n",
    "import pandas as pd\n",
    "import cvxpy as cp\n",
    "from geopy import distance"
   ]
  },
  {
   "cell_type": "code",
   "execution_count": 2,
   "outputs": [],
   "source": [
    "data = pd.read_csv('../Dataset/fri26_d.txt',delim_whitespace=True,header=None).to_numpy()"
   ],
   "metadata": {
    "collapsed": false
   }
  },
  {
   "cell_type": "code",
   "execution_count": 65,
   "outputs": [
    {
     "name": "stdout",
     "output_type": "stream",
     "text": [
      "Distance Matrix is:\n",
      "\n",
      "[[0.     4.3092 3.8329 2.7762 1.7441 4.2076 6.0199]\n",
      " [4.3092 0.     1.6596 3.7435 5.6408 2.5764 7.5691]\n",
      " [3.8329 1.6596 0.     2.3055 4.7278 3.8966 8.4056]\n",
      " [2.7762 3.7435 2.3055 0.     2.8311 5.2142 8.5694]\n",
      " [1.7441 5.6408 4.7278 2.8311 0.     5.9246 7.3483]\n",
      " [4.2076 2.5764 3.8966 5.2142 5.9246 0.     5.1733]\n",
      " [6.0199 7.5691 8.4056 8.5694 7.3483 5.1733 0.    ]]\n"
     ]
    }
   ],
   "source": [
    "points = [(-12.059296, -76.975893),\n",
    "          (-12.079575, -77.009686),\n",
    "          (-12.087303, -76.996620),\n",
    "          (-12.084391, -76.975651),\n",
    "          (-12.063603, -76.960483),\n",
    "          (-12.056762, -77.014452),\n",
    "          (-12.011531, -77.002383)]\n",
    "\n",
    "################################################\n",
    "# Building distance matrix\n",
    "################################################\n",
    "n = len(points)\n",
    "C = np.zeros((n,n))\n",
    "\n",
    "for i in range(0, n):\n",
    "    for j in range(0, len(points)):\n",
    "        C[i,j] = distance.distance(points[i], points[j]).km\n",
    "\n",
    "# Showing distance matrix\n",
    "print('Distance Matrix is:\\n')\n",
    "print(np.round(C,4))"
   ],
   "metadata": {
    "collapsed": false
   }
  },
  {
   "cell_type": "code",
   "execution_count": 66,
   "outputs": [
    {
     "name": "stdout",
     "output_type": "stream",
     "text": [
      "The optimal value is 1.6615081465717716e-08\n",
      "A solution X is\n",
      "[[ 7.41866007e-18  2.39734272e-08  4.15035659e-08  9.70291983e-08\n",
      "   1.15217402e-07 -2.63303463e-08  5.64465212e-08]\n",
      " [ 2.39734272e-08 -5.60523879e-17  1.33589270e-07  5.75713564e-08\n",
      "   4.35799864e-08  4.14197542e-08 -7.35571351e-08]\n",
      " [ 4.15035659e-08  1.33589270e-07 -1.43194356e-17  9.26875423e-08\n",
      "   8.13855274e-08  2.59943217e-08 -2.07956635e-07]\n",
      " [ 9.70291983e-08  5.75713564e-08  9.26875423e-08 -4.94985732e-18\n",
      "   1.05091404e-07 -2.02406115e-08 -2.25056235e-07]\n",
      " [ 1.15217402e-07  4.35799864e-08  8.13855274e-08  1.05091404e-07\n",
      "  -1.86309138e-17 -1.70984353e-08  1.38905935e-08]\n",
      " [-2.63303463e-08  4.14197542e-08  2.59943217e-08 -2.02406115e-08\n",
      "  -1.70984353e-08  1.60086328e-18  3.10433601e-07]\n",
      " [ 5.64465212e-08 -7.35571351e-08 -2.07956635e-07 -2.25056235e-07\n",
      "   1.38905935e-08  3.10433601e-07 -6.04877215e-18]]\n"
     ]
    }
   ],
   "source": [
    "# Generate a random SDP.\n",
    "n = 7\n",
    "np.random.seed(1)\n",
    "# C = data\n",
    "e = np.ones((n,1))\n",
    "I = np.eye(n)\n",
    "J = np.ones((n,n))\n",
    "constant =  2-2*np.cos((2*np.pi)/n)\n",
    "# Define and solve the CVXPY problem.\n",
    "# Create a symmetric matrix variable.\n",
    "X = cp.Variable((n,n), symmetric=True)\n",
    "# The operator >> denotes matrix inequality.\n",
    "constraints = [\n",
    "    X[i][i] == 0 for i in range(n)\n",
    "]\n",
    "constraints += [\n",
    "    X[i][j] >= 0 for i in range(n) for j in range(n)\n",
    "]\n",
    "constraints += [\n",
    "    X[i][j] <= 1 for i in range(n) for j in range(n)\n",
    "]\n",
    "constraints += [\n",
    "    2*I-X+J-(constant*I) >> 0\n",
    "]\n",
    "prob = cp.Problem(cp.Minimize(1/2*cp.trace(C @ X)),\n",
    "                  constraints)\n",
    "prob.solve()\n",
    "\n",
    "# Print result.\n",
    "print(\"The optimal value is\", prob.value)\n",
    "print(\"A solution X is\")\n",
    "print(X.value)"
   ],
   "metadata": {
    "collapsed": false
   }
  },
  {
   "cell_type": "code",
   "execution_count": null,
   "outputs": [],
   "source": [],
   "metadata": {
    "collapsed": false
   }
  }
 ],
 "metadata": {
  "kernelspec": {
   "display_name": "Python 3",
   "language": "python",
   "name": "python3"
  },
  "language_info": {
   "codemirror_mode": {
    "name": "ipython",
    "version": 2
   },
   "file_extension": ".py",
   "mimetype": "text/x-python",
   "name": "python",
   "nbconvert_exporter": "python",
   "pygments_lexer": "ipython2",
   "version": "2.7.6"
  }
 },
 "nbformat": 4,
 "nbformat_minor": 0
}
