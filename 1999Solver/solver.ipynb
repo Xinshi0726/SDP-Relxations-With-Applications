{
 "cells": [
  {
   "cell_type": "code",
   "execution_count": 53,
   "metadata": {
    "collapsed": true
   },
   "outputs": [],
   "source": [
    "import numpy as np\n",
    "import pandas as pd\n",
    "import cvxpy as cp\n",
    "from geopy import distance"
   ]
  },
  {
   "cell_type": "code",
   "execution_count": 138,
   "outputs": [],
   "source": [
    "import numpy as np\n",
    "from scipy.spatial.distance import cdist\n",
    "n = 20\n",
    "np.random.seed(42)\n",
    "points = np.random.rand(n, 2)\n",
    "data = cdist(points, points)"
   ],
   "metadata": {
    "collapsed": false
   }
  },
  {
   "cell_type": "code",
   "execution_count": 139,
   "outputs": [],
   "source": [
    "data = pd.read_csv('../Dataset/fri26_d.txt',delim_whitespace=True,header=None).to_numpy()"
   ],
   "metadata": {
    "collapsed": false
   }
  },
  {
   "cell_type": "code",
   "execution_count": 89,
   "outputs": [
    {
     "name": "stdout",
     "output_type": "stream",
     "text": [
      "Distance Matrix is:\n",
      "\n",
      "[[0.     4.3092 3.8329 2.7762 1.7441 4.2076 6.0199]\n",
      " [4.3092 0.     1.6596 3.7435 5.6408 2.5764 7.5691]\n",
      " [3.8329 1.6596 0.     2.3055 4.7278 3.8966 8.4056]\n",
      " [2.7762 3.7435 2.3055 0.     2.8311 5.2142 8.5694]\n",
      " [1.7441 5.6408 4.7278 2.8311 0.     5.9246 7.3483]\n",
      " [4.2076 2.5764 3.8966 5.2142 5.9246 0.     5.1733]\n",
      " [6.0199 7.5691 8.4056 8.5694 7.3483 5.1733 0.    ]]\n"
     ]
    }
   ],
   "source": [
    "points = [(-12.059296, -76.975893),\n",
    "          (-12.079575, -77.009686),\n",
    "          (-12.087303, -76.996620),\n",
    "          (-12.084391, -76.975651),\n",
    "          (-12.063603, -76.960483),\n",
    "          (-12.056762, -77.014452),\n",
    "          (-12.011531, -77.002383)]\n",
    "\n",
    "################################################\n",
    "# Building distance matrix\n",
    "################################################\n",
    "n = len(points)\n",
    "C = np.zeros((n,n))\n",
    "\n",
    "for i in range(0, n):\n",
    "    for j in range(0, len(points)):\n",
    "        C[i,j] = distance.distance(points[i], points[j]).km\n",
    "\n",
    "# Showing distance matrix\n",
    "print('Distance Matrix is:\\n')\n",
    "print(np.round(C,4))"
   ],
   "metadata": {
    "collapsed": false
   }
  },
  {
   "cell_type": "code",
   "execution_count": 140,
   "outputs": [
    {
     "name": "stdout",
     "output_type": "stream",
     "text": [
      "The optimal value is 885.3325366789334\n",
      "A solution X is\n",
      "[[-2.96518793e-09  9.99998687e-01  4.57340168e-01 -1.34117817e-06\n",
      "   7.30617295e-08 -1.71954033e-06 -3.46258082e-07 -1.16892822e-06\n",
      "  -1.05208871e-06 -1.84093610e-06 -1.48012649e-06 -7.61151033e-07\n",
      "  -8.85030084e-07 -1.23023533e-06  4.38738168e-01 -1.48132973e-06\n",
      "   3.01115153e-07 -7.76290451e-07 -7.79109490e-07 -7.30107937e-07\n",
      "  -2.65922353e-06 -9.27450683e-07 -1.95268140e-06 -1.76173354e-06\n",
      "   1.03945929e-01 -4.18575012e-07]\n",
      " [ 9.99998687e-01 -1.91208489e-10  1.00000028e+00 -4.73677561e-07\n",
      "   9.44305424e-07 -8.74089569e-07  6.73306859e-07 -8.97069020e-08\n",
      "  -3.80183111e-08 -8.63096215e-07 -6.29810165e-07  8.89268356e-08\n",
      "  -3.04560384e-08 -2.35274392e-07 -3.27972998e-08 -2.71752488e-07\n",
      "   1.61751253e-06  5.29499589e-07  4.70274136e-07  5.50014443e-07\n",
      "  -1.26391777e-06  4.88274264e-07 -4.98108029e-07 -3.25140160e-07\n",
      "   3.08581791e-07  9.86473590e-07]\n",
      " [ 4.57340168e-01  1.00000028e+00  1.51019505e-09  5.44340004e-03\n",
      "   1.24117874e-06 -5.95075587e-07  1.15614727e-06  4.49384497e-07\n",
      "   4.57649710e-07 -3.74556843e-07 -2.24104477e-07  4.96440694e-07\n",
      "   3.77923623e-07  9.42132116e-07  5.37200580e-01  3.87316112e-07\n",
      "   2.37940621e-06  1.27625055e-06  1.16289116e-06  1.27167376e-06\n",
      "  -4.17350887e-07  1.35357006e-06  4.70798101e-07  6.35414060e-07\n",
      "   1.26822644e-06  1.84533786e-06]\n",
      " [-1.34117817e-06 -4.73677561e-07  5.44340004e-03 -2.72347845e-10\n",
      "   9.94579510e-01  9.99999043e-01  1.49748562e-08 -9.25381789e-07\n",
      "  -6.18509678e-07 -1.39903316e-06 -8.71900134e-07 -2.62329299e-07\n",
      "  -1.54430437e-07 -4.69089585e-07 -2.74896760e-07 -1.91384404e-06\n",
      "  -1.26268663e-07 -1.31246726e-06 -1.35811188e-06 -1.34489573e-06\n",
      "  -3.17037523e-06 -1.21317826e-06 -1.56901858e-06 -1.76464421e-06\n",
      "  -5.52339411e-07 -8.42479276e-07]\n",
      " [ 7.30617295e-08  9.44305424e-07  1.24117874e-06  9.94579510e-01\n",
      "   3.19558127e-09  8.64472875e-01  1.40937659e-01  4.85955024e-07\n",
      "   7.79205778e-07  5.02034775e-09  5.03296856e-07  1.11720683e-06\n",
      "   1.21592186e-06  9.32071328e-07  1.13487111e-06 -4.46775795e-07\n",
      "   1.36957270e-06  1.80669401e-07  1.21528884e-07  1.44467801e-07\n",
      "  -1.64229626e-06  3.11750301e-07 -1.28378871e-08 -1.93314560e-07\n",
      "   9.93450588e-07  6.87117827e-07]\n",
      " [-1.71954033e-06 -8.74089569e-07 -5.95075587e-07  9.99999043e-01\n",
      "   8.64472875e-01 -3.14475675e-09  1.35552487e-01 -1.32386898e-06\n",
      "  -1.14571963e-06 -1.94544643e-06 -1.71036865e-06 -1.08712789e-06\n",
      "  -1.00126607e-06 -9.90665177e-07 -7.45790136e-07 -1.95315491e-06\n",
      "   8.92950121e-08 -1.12767450e-06 -1.30334268e-06 -1.21312123e-06\n",
      "  -2.72723921e-06 -7.44251508e-07 -8.97524623e-07 -1.07264546e-06\n",
      "   7.49369064e-08 -3.76194712e-07]\n",
      " [-3.46258082e-07  6.73306859e-07  1.15614727e-06  1.49748562e-08\n",
      "   1.40937659e-01  1.35552487e-01  1.58372529e-09  1.00000029e+00\n",
      "   7.23499134e-01 -1.58121831e-07  1.52560152e-07  8.44051131e-07\n",
      "   7.65587679e-07  5.99751778e-07  8.50762879e-07 -1.88014427e-07\n",
      "   1.70434060e-06  5.38743216e-07  4.68733860e-07  5.42353295e-07\n",
      "  -1.12551571e-06  6.89248070e-07  3.61339196e-07  4.85736845e-07\n",
      "   1.21575535e-06  1.17508903e-06]\n",
      " [-1.16892822e-06 -8.97069020e-08  4.49384497e-07 -9.25381789e-07\n",
      "   4.85955024e-07 -1.32386898e-06  1.00000029e+00 -7.19885034e-10\n",
      "   4.02010406e-01 -8.74475422e-07 -5.37609076e-07  1.68253272e-07\n",
      "   4.48349328e-08 -1.64035916e-07  9.21700364e-08  5.97996557e-01\n",
      "   7.57517445e-07 -4.01411562e-07 -4.22024507e-07 -3.63444722e-07\n",
      "  -2.08295008e-06 -3.17682934e-07 -6.08489157e-07 -3.91937220e-07\n",
      "   2.17957028e-07  2.05953756e-07]\n",
      " [-1.05208871e-06 -3.80183111e-08  4.57649710e-07 -6.18509678e-07\n",
      "   7.79205778e-07 -1.14571963e-06  7.23499134e-01  4.02010406e-01\n",
      "  -4.44085513e-11  8.74492191e-01 -4.85839141e-07  2.10253992e-07\n",
      "   1.28538831e-07 -7.96662596e-08  1.64478488e-07 -6.93663755e-07\n",
      "   1.20769558e-06  5.92006146e-08 -1.41605739e-08  6.18237869e-08\n",
      "  -1.62988764e-06  1.75402239e-07 -2.83887692e-07 -1.58219729e-07\n",
      "   5.63981147e-07  6.60790475e-07]\n",
      " [-1.84093610e-06 -8.63096215e-07 -3.74556843e-07 -1.39903316e-06\n",
      "   5.02034775e-09 -1.94544643e-06 -1.58121831e-07 -8.74475422e-07\n",
      "   8.74492191e-01 -1.85427470e-09  9.92388877e-02 -7.12719929e-07\n",
      "   2.62815115e-02  9.99999149e-01 -6.46279668e-07 -1.04401052e-06\n",
      "   9.75175169e-07 -1.59959598e-07 -2.94955528e-07 -1.86356239e-07\n",
      "  -1.80155936e-06  1.71830461e-08 -6.14611291e-07 -5.17541383e-07\n",
      "   2.19888116e-07  4.85164868e-07]\n",
      " [-1.48012649e-06 -6.29810165e-07 -2.24104477e-07 -8.71900134e-07\n",
      "   5.03296856e-07 -1.71036865e-06  1.52560152e-07 -5.37609076e-07\n",
      "  -4.85839141e-07  9.92388877e-02  1.36622387e-09  9.51110924e-01\n",
      "   9.49658729e-01 -5.74821683e-07 -3.31151585e-07 -8.36930063e-07\n",
      "   1.16622519e-06  8.51370540e-08 -5.64096665e-08  1.40431450e-08\n",
      "  -1.80763602e-06  6.84565842e-08 -7.64868935e-07 -8.71945212e-07\n",
      "   1.80164844e-07  4.73567324e-07]\n",
      " [-7.61151033e-07  8.89268356e-08  4.96440694e-07 -2.62329299e-07\n",
      "   1.11720683e-06 -1.08712789e-06  8.44051131e-07  1.68253272e-07\n",
      "   2.10253992e-07 -7.12719929e-07  9.51110924e-01  2.98302125e-09\n",
      "   1.00000118e+00  1.27598426e-07  3.79761569e-07 -9.10614291e-08\n",
      "   2.28975779e-02  8.51691053e-07  6.98495701e-07  7.76186140e-07\n",
      "   8.31369579e-03  8.65442704e-07  6.65290021e-08 -3.26309134e-08\n",
      "   1.76715953e-02  1.27232112e-06]\n",
      " [-8.85030084e-07 -3.04560384e-08  3.77923623e-07 -1.54430437e-07\n",
      "   1.21592186e-06 -1.00126607e-06  7.65587679e-07  4.48349328e-08\n",
      "   1.28538831e-07  2.62815115e-02  9.49658729e-01  1.00000118e+00\n",
      "   3.05253700e-09  4.74108469e-08  2.40557687e-02 -3.32511487e-07\n",
      "   1.61565125e-06  5.41510525e-07  4.28155423e-07  4.81351248e-07\n",
      "  -1.40822334e-06  4.61851446e-07 -4.02980823e-07 -5.13818138e-07\n",
      "   5.53112467e-07  8.68129103e-07]\n",
      " [-1.23023533e-06 -2.35274392e-07  9.42132116e-07 -4.69089585e-07\n",
      "   9.32071328e-07 -9.90665177e-07  5.99751778e-07 -1.64035916e-07\n",
      "  -7.96662596e-08  9.99999149e-01 -5.74821683e-07  1.27598426e-07\n",
      "   4.74108469e-08 -9.66572330e-12  1.00000006e+00 -4.24250092e-07\n",
      "   1.49558634e-06  3.84293864e-07  3.02316600e-07  3.83030584e-07\n",
      "  -1.37395588e-06  4.20089271e-07 -3.82326418e-07 -2.73661092e-07\n",
      "   4.57279667e-07  8.95642356e-07]\n",
      " [ 4.38738168e-01 -3.27972998e-08  5.37200580e-01 -2.74896760e-07\n",
      "   1.13487111e-06 -7.45790136e-07  8.50762879e-07  9.21700364e-08\n",
      "   1.64478488e-07 -6.46279668e-07 -3.31151585e-07  3.79761569e-07\n",
      "   2.40557687e-02  1.00000006e+00  4.93665261e-10 -1.28445963e-07\n",
      "   1.78438424e-06  6.83015008e-07  6.07467590e-07  6.88585668e-07\n",
      "  -1.08895509e-06  6.88243912e-07 -1.80752692e-07 -4.59901834e-08\n",
      "   6.46004114e-07  1.17325794e-06]\n",
      " [-1.48132973e-06 -2.71752488e-07  3.87316112e-07 -1.91384404e-06\n",
      "  -4.46775795e-07 -1.95315491e-06 -1.88014427e-07  5.97996557e-01\n",
      "  -6.93663755e-07 -1.04401052e-06 -8.36930063e-07 -9.10614291e-08\n",
      "  -3.32511487e-07 -4.24250092e-07 -1.28445963e-07 -2.01551694e-09\n",
      "   4.02019896e-01 -7.99829568e-07  9.99999263e-01 -1.24323325e-06\n",
      "  -2.37411484e-06 -7.05987392e-07 -7.50961132e-07 -3.07438491e-07\n",
      "  -1.09989409e-08 -9.58176812e-08]\n",
      " [ 3.01115153e-07  1.61751253e-06  2.37940621e-06 -1.26268663e-07\n",
      "   1.36957270e-06  8.92950121e-08  1.70434060e-06  7.57517445e-07\n",
      "   1.20769558e-06  9.75175169e-07  1.16622519e-06  2.28975779e-02\n",
      "   1.61565125e-06  1.49558634e-06  1.78438424e-06  4.02019896e-01\n",
      "   2.61116598e-09  1.00000085e+00  9.37147787e-07  9.66967417e-07\n",
      "   3.44219797e-01  7.47156253e-07  6.69011233e-07  1.27179493e-06\n",
      "   1.35975060e-06  2.30839577e-01]\n",
      " [-7.76290451e-07  5.29499589e-07  1.27625055e-06 -1.31246726e-06\n",
      "   1.80669401e-07 -1.12767450e-06  5.38743216e-07 -4.01411562e-07\n",
      "   5.92006146e-08 -1.59959598e-07  8.51370540e-08  8.51691053e-07\n",
      "   5.41510525e-07  3.84293864e-07  6.83015008e-07 -7.99829568e-07\n",
      "   1.00000085e+00 -2.24264991e-10  5.31319543e-07  9.99999837e-01\n",
      "  -1.96742453e-06 -3.77791114e-07 -3.74064911e-07  2.12774881e-07\n",
      "   3.25037135e-07  4.11876338e-07]\n",
      " [-7.79109490e-07  4.70274136e-07  1.16289116e-06 -1.35811188e-06\n",
      "   1.21528884e-07 -1.30334268e-06  4.68733860e-07 -4.22024507e-07\n",
      "  -1.41605739e-08 -2.94955528e-07 -5.64096665e-08  6.98495701e-07\n",
      "   4.28155423e-07  3.02316600e-07  6.07467590e-07  9.99999263e-01\n",
      "   9.37147787e-07  5.31319543e-07 -1.05910912e-10  9.99999915e-01\n",
      "  -1.80532242e-06 -1.67034480e-07 -1.34563572e-07  3.70619735e-07\n",
      "   5.88221299e-07  4.69008996e-07]\n",
      " [-7.30107937e-07  5.50014443e-07  1.27167376e-06 -1.34489573e-06\n",
      "   1.44467801e-07 -1.21312123e-06  5.42353295e-07 -3.63444722e-07\n",
      "   6.18237869e-08 -1.86356239e-07  1.40431450e-08  7.76186140e-07\n",
      "   4.81351248e-07  3.83030584e-07  6.88585668e-07 -1.24323325e-06\n",
      "   9.66967417e-07  9.99999837e-01  9.99999915e-01 -1.46421188e-10\n",
      "  -1.77391342e-06 -1.60325708e-07 -1.23536548e-07  4.29777128e-07\n",
      "   5.81498978e-07  4.94633071e-07]\n",
      " [-2.65922353e-06 -1.26391777e-06 -4.17350887e-07 -3.17037523e-06\n",
      "  -1.64229626e-06 -2.72723921e-06 -1.12551571e-06 -2.08295008e-06\n",
      "  -1.62988764e-06 -1.80155936e-06 -1.80763602e-06  8.31369579e-03\n",
      "  -1.40822334e-06 -1.37395588e-06 -1.08895509e-06 -2.37411484e-06\n",
      "   3.44219797e-01 -1.96742453e-06 -1.80532242e-06 -1.77391342e-06\n",
      "  -4.86177090e-09  9.99997950e-01 -2.23851480e-06 -1.50055612e-06\n",
      "  -1.60899877e-06  6.47506050e-01]\n",
      " [-9.27450683e-07  4.88274264e-07  1.35357006e-06 -1.21317826e-06\n",
      "   3.11750301e-07 -7.44251508e-07  6.89248070e-07 -3.17682934e-07\n",
      "   1.75402239e-07  1.71830461e-08  6.84565842e-08  8.65442704e-07\n",
      "   4.61851446e-07  4.20089271e-07  6.88243912e-07 -7.05987392e-07\n",
      "   7.47156253e-07 -3.77791114e-07 -1.67034480e-07 -1.60325708e-07\n",
      "   9.99997950e-01 -3.01144034e-10  4.70595317e-07 -7.22679411e-08\n",
      "  -1.95411491e-07  1.00000017e+00]\n",
      " [-1.95268140e-06 -4.98108029e-07  4.70798101e-07 -1.56901858e-06\n",
      "  -1.28378871e-08 -8.97524623e-07  3.61339196e-07 -6.08489157e-07\n",
      "  -2.83887692e-07 -6.14611291e-07 -7.64868935e-07  6.65290021e-08\n",
      "  -4.02980823e-07 -3.82326418e-07 -1.80752692e-07 -7.50961132e-07\n",
      "   6.69011233e-07 -3.74064911e-07 -1.34563572e-07 -1.23536548e-07\n",
      "  -2.23851480e-06  4.70595317e-07 -1.50843249e-09  9.99999081e-01\n",
      "   8.78375116e-01  1.21635561e-01]\n",
      " [-1.76173354e-06 -3.25140160e-07  6.35414060e-07 -1.76464421e-06\n",
      "  -1.93314560e-07 -1.07264546e-06  4.85736845e-07 -3.91937220e-07\n",
      "  -1.58219729e-07 -5.17541383e-07 -8.71945212e-07 -3.26309134e-08\n",
      "  -5.13818138e-07 -2.73661092e-07 -4.59901834e-08 -3.07438491e-07\n",
      "   1.27179493e-06  2.12774881e-07  3.70619735e-07  4.29777128e-07\n",
      "  -1.50055612e-06 -7.22679411e-08  9.99999081e-01 -2.37860083e-10\n",
      "   9.99999615e-01  7.70493441e-06]\n",
      " [ 1.03945929e-01  3.08581791e-07  1.26822644e-06 -5.52339411e-07\n",
      "   9.93450588e-07  7.49369064e-08  1.21575535e-06  2.17957028e-07\n",
      "   5.63981147e-07  2.19888116e-07  1.80164844e-07  1.76715953e-02\n",
      "   5.53112467e-07  4.57279667e-07  6.46004114e-07 -1.09989409e-08\n",
      "   1.35975060e-06  3.25037135e-07  5.88221299e-07  5.81498978e-07\n",
      "  -1.60899877e-06 -1.95411491e-07  8.78375116e-01  9.99999615e-01\n",
      "  -6.25693599e-10  5.54479078e-07]\n",
      " [-4.18575012e-07  9.86473590e-07  1.84533786e-06 -8.42479276e-07\n",
      "   6.87117827e-07 -3.76194712e-07  1.17508903e-06  2.05953756e-07\n",
      "   6.60790475e-07  4.85164868e-07  4.73567324e-07  1.27232112e-06\n",
      "   8.68129103e-07  8.95642356e-07  1.17325794e-06 -9.58176812e-08\n",
      "   2.30839577e-01  4.11876338e-07  4.69008996e-07  4.94633071e-07\n",
      "   6.47506050e-01  1.00000017e+00  1.21635561e-01  7.70493441e-06\n",
      "   5.54479078e-07  1.28272135e-09]]\n"
     ]
    }
   ],
   "source": [
    "# Generate a random SDP.\n",
    "n = 26\n",
    "np.random.seed(1)\n",
    "C = data\n",
    "e = np.ones((n,1))\n",
    "I = np.eye(n)\n",
    "J = np.ones((n,n))\n",
    "constant =  2-2*np.cos((2*np.pi)/n)\n",
    "# Define and solve the CVXPY problem.\n",
    "# Create a symmetric matrix variable.\n",
    "X = cp.Variable((n,n), symmetric=True)\n",
    "# The operator >> denotes matrix inequality.\n",
    "constraints = [\n",
    "    X[i][i] == 0 for i in range(n)\n",
    "]\n",
    "constraints += [\n",
    "    X@e == 2*e\n",
    "]\n",
    "constraints += [\n",
    "    X[i][j] >= 0 for i in range(n) for j in range(n)\n",
    "]\n",
    "constraints += [\n",
    "    X[i][j] <= 1 for i in range(n) for j in range(n)\n",
    "]\n",
    "constraints += [\n",
    "    2*I-X+J-(constant*I) >> 0\n",
    "]\n",
    "prob = cp.Problem(cp.Minimize(1/2*cp.trace(C @ X)),\n",
    "                  constraints)\n",
    "prob.solve()\n",
    "\n",
    "# Print result.\n",
    "print(\"The optimal value is\", prob.value)\n",
    "print(\"A solution X is\")\n",
    "print(X.value)\n"
   ],
   "metadata": {
    "collapsed": false
   }
  },
  {
   "cell_type": "code",
   "execution_count": 142,
   "outputs": [
    {
     "ename": "IndexError",
     "evalue": "index 20 is out of bounds for axis 0 with size 19",
     "output_type": "error",
     "traceback": [
      "\u001B[0;31m---------------------------------------------------------------------------\u001B[0m",
      "\u001B[0;31mIndexError\u001B[0m                                Traceback (most recent call last)",
      "\u001B[0;32m/var/folders/n4/nh27w14x7ws45_jcvj2cdh780000gn/T/ipykernel_24156/2477899716.py\u001B[0m in \u001B[0;36m<module>\u001B[0;34m\u001B[0m\n\u001B[1;32m     35\u001B[0m \u001B[0;32mfor\u001B[0m \u001B[0mi\u001B[0m \u001B[0;32min\u001B[0m \u001B[0mrange\u001B[0m\u001B[0;34m(\u001B[0m\u001B[0;36m1\u001B[0m\u001B[0;34m,\u001B[0m \u001B[0mn\u001B[0m\u001B[0;34m)\u001B[0m\u001B[0;34m:\u001B[0m\u001B[0;34m\u001B[0m\u001B[0;34m\u001B[0m\u001B[0m\n\u001B[1;32m     36\u001B[0m     \u001B[0mrow\u001B[0m \u001B[0;34m=\u001B[0m \u001B[0morden\u001B[0m\u001B[0;34m[\u001B[0m\u001B[0;34m-\u001B[0m\u001B[0;36m1\u001B[0m\u001B[0;34m]\u001B[0m\u001B[0;34m\u001B[0m\u001B[0;34m\u001B[0m\u001B[0m\n\u001B[0;32m---> 37\u001B[0;31m     \u001B[0morden\u001B[0m\u001B[0;34m.\u001B[0m\u001B[0mappend\u001B[0m\u001B[0;34m(\u001B[0m\u001B[0mX_sol\u001B[0m\u001B[0;34m[\u001B[0m\u001B[0mrow\u001B[0m\u001B[0;34m,\u001B[0m\u001B[0;36m1\u001B[0m\u001B[0;34m]\u001B[0m\u001B[0;34m)\u001B[0m\u001B[0;34m\u001B[0m\u001B[0;34m\u001B[0m\u001B[0m\n\u001B[0m\u001B[1;32m     38\u001B[0m \u001B[0;34m\u001B[0m\u001B[0m\n\u001B[1;32m     39\u001B[0m \u001B[0;31m# Showing the optimal path\u001B[0m\u001B[0;34m\u001B[0m\u001B[0;34m\u001B[0m\u001B[0m\n",
      "\u001B[0;31mIndexError\u001B[0m: index 20 is out of bounds for axis 0 with size 19"
     ]
    }
   ],
   "source": [
    "################################################\n",
    "# Solving the integer programming problem\n",
    "################################################\n",
    "\n",
    "# Defining variables\n",
    "X = cp.Variable(C.shape, boolean=True)\n",
    "u = cp.Variable(n, integer=True)\n",
    "ones = np.ones((n,1))\n",
    "\n",
    "# Defining the objective function\n",
    "objective = cp.Minimize(cp.sum(cp.multiply(C, X)))\n",
    "\n",
    "# Defining the constraints\n",
    "constraints = []\n",
    "constraints += [X @ ones == ones]\n",
    "constraints += [X.T @ ones == ones]\n",
    "constraints += [cp.diag(X) == 0]\n",
    "constraints += [u[1:] >= 2]\n",
    "constraints += [u[1:] <= n]\n",
    "constraints += [u[0] == 1]\n",
    "\n",
    "for i in range(1, n):\n",
    "    for j in range(1, n):\n",
    "        if i != j:\n",
    "            constraints += [ u[i] - u[j] + 1  <= (n - 1) * (1 - X[i, j]) ]\n",
    "\n",
    "# Solving the problem\n",
    "prob = cp.Problem(objective, constraints)\n",
    "prob.solve(verbose=False)\n",
    "\n",
    "# Transforming the solution to a path\n",
    "X_sol = np.argwhere(X.value==1)\n",
    "orden = X_sol[0].tolist()\n",
    "\n",
    "for i in range(1, n):\n",
    "    row = orden[-1]\n",
    "    orden.append(X_sol[row,1])\n",
    "\n",
    "# Showing the optimal path\n",
    "print('The path is:\\n')\n",
    "print( ' => '.join(map(str, orden)))"
   ],
   "metadata": {
    "collapsed": false
   }
  },
  {
   "cell_type": "code",
   "execution_count": 144,
   "outputs": [
    {
     "data": {
      "text/plain": "[0, 1]"
     },
     "execution_count": 144,
     "metadata": {},
     "output_type": "execute_result"
    }
   ],
   "source": [
    "X_sol[0].tolist()"
   ],
   "metadata": {
    "collapsed": false
   }
  },
  {
   "cell_type": "code",
   "execution_count": 136,
   "outputs": [],
   "source": [
    "Res = X.value\n",
    "out = [[1 if X.value[i][j]>0.15 else 0 for i in range(X.shape[0])]for j in range(X.shape[1])]"
   ],
   "metadata": {
    "collapsed": false
   }
  },
  {
   "cell_type": "code",
   "execution_count": 137,
   "outputs": [
    {
     "data": {
      "text/plain": "<Figure size 640x480 with 1 Axes>",
      "image/png": "[encoded data removed]"
     },
     "metadata": {},
     "output_type": "display_data"
    }
   ],
   "source": [
    "import numpy as np\n",
    "import networkx as nx\n",
    "import matplotlib.pyplot as plt\n",
    "\n",
    "# Define the adjacency matrix\n",
    "adj_matrix = np.array([\n",
    "    [0, 1, 1, 0, 0],\n",
    "    [1, 0, 1, 0, 0],\n",
    "    [1, 1, 0, 1, 0],\n",
    "    [0, 0, 1, 0, 1],\n",
    "    [0, 0, 0, 1, 0]\n",
    "])\n",
    "\n",
    "# Create a graph from the adjacency matrix\n",
    "G = nx.from_numpy_matrix(np.array(out))\n",
    "\n",
    "# Create a layout for the graph (optional)\n",
    "pos = nx.spring_layout(G, seed=42)\n",
    "\n",
    "# Draw the graph with labels\n",
    "nx.draw(G, pos, with_labels=True, node_color='skyblue', font_weight='bold', node_size=800)\n",
    "\n",
    "# Show the graph\n",
    "plt.show()\n"
   ],
   "metadata": {
    "collapsed": false
   }
  },
  {
   "cell_type": "code",
   "execution_count": null,
   "outputs": [],
   "source": [],
   "metadata": {
    "collapsed": false
   }
  }
 ],
 "metadata": {
  "kernelspec": {
   "display_name": "Python 3",
   "language": "python",
   "name": "python3"
  },
  "language_info": {
   "codemirror_mode": {
    "name": "ipython",
    "version": 2
   },
   "file_extension": ".py",
   "mimetype": "text/x-python",
   "name": "python",
   "nbconvert_exporter": "python",
   "pygments_lexer": "ipython2",
   "version": "2.7.6"
  }
 },
 "nbformat": 4,
 "nbformat_minor": 0
}
