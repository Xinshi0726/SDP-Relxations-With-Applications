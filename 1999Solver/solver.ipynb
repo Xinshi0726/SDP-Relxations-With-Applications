{
 "cells": [
  {
   "cell_type": "code",
   "execution_count": 53,
   "metadata": {
    "collapsed": true
   },
   "outputs": [],
   "source": [
    "import numpy as np\n",
    "import pandas as pd\n",
    "import cvxpy as cp\n",
    "from geopy import distance"
   ]
  },
  {
   "cell_type": "code",
   "execution_count": 72,
   "outputs": [],
   "source": [
    "data = pd.read_csv('../Dataset/fri26_d.txt',delim_whitespace=True,header=None).to_numpy()"
   ],
   "metadata": {
    "collapsed": false
   }
  },
  {
   "cell_type": "code",
   "execution_count": 89,
   "outputs": [
    {
     "name": "stdout",
     "output_type": "stream",
     "text": [
      "Distance Matrix is:\n",
      "\n",
      "[[0.     4.3092 3.8329 2.7762 1.7441 4.2076 6.0199]\n",
      " [4.3092 0.     1.6596 3.7435 5.6408 2.5764 7.5691]\n",
      " [3.8329 1.6596 0.     2.3055 4.7278 3.8966 8.4056]\n",
      " [2.7762 3.7435 2.3055 0.     2.8311 5.2142 8.5694]\n",
      " [1.7441 5.6408 4.7278 2.8311 0.     5.9246 7.3483]\n",
      " [4.2076 2.5764 3.8966 5.2142 5.9246 0.     5.1733]\n",
      " [6.0199 7.5691 8.4056 8.5694 7.3483 5.1733 0.    ]]\n"
     ]
    }
   ],
   "source": [
    "points = [(-12.059296, -76.975893),\n",
    "          (-12.079575, -77.009686),\n",
    "          (-12.087303, -76.996620),\n",
    "          (-12.084391, -76.975651),\n",
    "          (-12.063603, -76.960483),\n",
    "          (-12.056762, -77.014452),\n",
    "          (-12.011531, -77.002383)]\n",
    "\n",
    "################################################\n",
    "# Building distance matrix\n",
    "################################################\n",
    "n = len(points)\n",
    "C = np.zeros((n,n))\n",
    "\n",
    "for i in range(0, n):\n",
    "    for j in range(0, len(points)):\n",
    "        C[i,j] = distance.distance(points[i], points[j]).km\n",
    "\n",
    "# Showing distance matrix\n",
    "print('Distance Matrix is:\\n')\n",
    "print(np.round(C,4))"
   ],
   "metadata": {
    "collapsed": false
   }
  },
  {
   "cell_type": "code",
   "execution_count": 90,
   "outputs": [
    {
     "name": "stdout",
     "output_type": "stream",
     "text": [
      "The optimal value is 22.310002589938044\n",
      "A solution X is\n",
      "[[-3.02001706e-09 -9.75259861e-08 -3.03894798e-07  3.53830555e-06\n",
      "   9.99997382e-01  1.89085503e-07  9.99999299e-01]\n",
      " [-9.75259861e-08  3.33325776e-09  1.00000085e+00 -9.00921098e-07\n",
      "  -2.33109103e-07  1.00000131e+00 -9.31461459e-07]\n",
      " [-3.03894798e-07  1.00000085e+00  5.11634062e-10  9.99999752e-01\n",
      "   2.72583242e-07 -4.95328905e-08 -5.21397685e-07]\n",
      " [ 3.53830555e-06 -9.00921098e-07  9.99999752e-01 -6.72014538e-10\n",
      "   9.99999100e-01 -5.86891987e-07 -8.99399309e-07]\n",
      " [ 9.99997382e-01 -2.33109103e-07  2.72583242e-07  9.99999100e-01\n",
      "  -3.55921403e-09 -2.17578298e-07  3.70447324e-06]\n",
      " [ 1.89085503e-07  1.00000131e+00 -4.95328905e-08 -5.86891987e-07\n",
      "  -2.17578298e-07  8.74065889e-10  9.99999354e-01]\n",
      " [ 9.99999299e-01 -9.31461459e-07 -5.21397685e-07 -8.99399309e-07\n",
      "   3.70447324e-06  9.99999354e-01 -1.63055982e-09]]\n"
     ]
    }
   ],
   "source": [
    "# Generate a random SDP.\n",
    "n = 7\n",
    "np.random.seed(1)\n",
    "# C = data\n",
    "e = np.ones((n,1))\n",
    "I = np.eye(n)\n",
    "J = np.ones((n,n))\n",
    "constant =  2-2*np.cos((2*np.pi)/n)\n",
    "# Define and solve the CVXPY problem.\n",
    "# Create a symmetric matrix variable.\n",
    "X = cp.Variable((n,n), symmetric=True)\n",
    "# The operator >> denotes matrix inequality.\n",
    "constraints = [\n",
    "    X[i][i] == 0 for i in range(n)\n",
    "]\n",
    "constraints += [\n",
    "    X@e == 2*e\n",
    "]\n",
    "constraints += [\n",
    "    X[i][j] >= 0 for i in range(n) for j in range(n)\n",
    "]\n",
    "constraints += [\n",
    "    X[i][j] <= 1 for i in range(n) for j in range(n)\n",
    "]\n",
    "constraints += [\n",
    "    2*I-X+J-(constant*I) >> 0\n",
    "]\n",
    "prob = cp.Problem(cp.Minimize(1/2*cp.trace(C @ X)),\n",
    "                  constraints)\n",
    "prob.solve()\n",
    "\n",
    "# Print result.\n",
    "print(\"The optimal value is\", prob.value)\n",
    "print(\"A solution X is\")\n",
    "print(X.value)\n"
   ],
   "metadata": {
    "collapsed": false
   }
  },
  {
   "cell_type": "code",
   "execution_count": 94,
   "outputs": [
    {
     "name": "stdout",
     "output_type": "stream",
     "text": [
      "The path is:\n",
      "\n",
      "0 => 6 => 5 => 1 => 2 => 3 => 4 => 0\n"
     ]
    }
   ],
   "source": [
    "################################################\n",
    "# Solving the integer programming problem\n",
    "################################################\n",
    "\n",
    "# Defining variables\n",
    "X = cp.Variable(C.shape, boolean=True)\n",
    "u = cp.Variable(n, integer=True)\n",
    "ones = np.ones((n,1))\n",
    "\n",
    "# Defining the objective function\n",
    "objective = cp.Minimize(cp.sum(cp.multiply(C, X)))\n",
    "\n",
    "# Defining the constraints\n",
    "constraints = []\n",
    "constraints += [X @ ones == ones]\n",
    "constraints += [X.T @ ones == ones]\n",
    "constraints += [cp.diag(X) == 0]\n",
    "constraints += [u[1:] >= 2]\n",
    "constraints += [u[1:] <= n]\n",
    "constraints += [u[0] == 1]\n",
    "\n",
    "for i in range(1, n):\n",
    "    for j in range(1, n):\n",
    "        if i != j:\n",
    "            constraints += [ u[i] - u[j] + 1  <= (n - 1) * (1 - X[i, j]) ]\n",
    "\n",
    "# Solving the problem\n",
    "prob = cp.Problem(objective, constraints)\n",
    "prob.solve(verbose=False)\n",
    "\n",
    "# Transforming the solution to a path\n",
    "X_sol = np.argwhere(X.value==1)\n",
    "orden = X_sol[0].tolist()\n",
    "\n",
    "for i in range(1, n):\n",
    "    row = orden[-1]\n",
    "    orden.append(X_sol[row,1])\n",
    "\n",
    "# Showing the optimal path\n",
    "print('The path is:\\n')\n",
    "print( ' => '.join(map(str, orden)))"
   ],
   "metadata": {
    "collapsed": false
   }
  },
  {
   "cell_type": "code",
   "execution_count": 91,
   "outputs": [],
   "source": [
    "Res = X.value\n",
    "out = [[1 if X.value[i][j]>0.5 else 0 for i in range(X.shape[0])]for j in range(X.shape[1])]"
   ],
   "metadata": {
    "collapsed": false
   }
  },
  {
   "cell_type": "code",
   "execution_count": 93,
   "outputs": [
    {
     "data": {
      "text/plain": "<Figure size 640x480 with 1 Axes>",
      "image/png": "[encoded data removed]"
     },
     "metadata": {},
     "output_type": "display_data"
    }
   ],
   "source": [
    "import numpy as np\n",
    "import networkx as nx\n",
    "import matplotlib.pyplot as plt\n",
    "\n",
    "# Define the adjacency matrix\n",
    "adj_matrix = np.array([\n",
    "    [0, 1, 1, 0, 0],\n",
    "    [1, 0, 1, 0, 0],\n",
    "    [1, 1, 0, 1, 0],\n",
    "    [0, 0, 1, 0, 1],\n",
    "    [0, 0, 0, 1, 0]\n",
    "])\n",
    "\n",
    "# Create a graph from the adjacency matrix\n",
    "G = nx.from_numpy_matrix(np.array(out))\n",
    "\n",
    "# Create a layout for the graph (optional)\n",
    "pos = nx.spring_layout(G, seed=42)\n",
    "\n",
    "# Draw the graph with labels\n",
    "nx.draw(G, pos, with_labels=True, node_color='skyblue', font_weight='bold', node_size=800)\n",
    "\n",
    "# Show the graph\n",
    "plt.show()\n"
   ],
   "metadata": {
    "collapsed": false
   }
  },
  {
   "cell_type": "code",
   "execution_count": null,
   "outputs": [],
   "source": [],
   "metadata": {
    "collapsed": false
   }
  }
 ],
 "metadata": {
  "kernelspec": {
   "display_name": "Python 3",
   "language": "python",
   "name": "python3"
  },
  "language_info": {
   "codemirror_mode": {
    "name": "ipython",
    "version": 2
   },
   "file_extension": ".py",
   "mimetype": "text/x-python",
   "name": "python",
   "nbconvert_exporter": "python",
   "pygments_lexer": "ipython2",
   "version": "2.7.6"
  }
 },
 "nbformat": 4,
 "nbformat_minor": 0
}
