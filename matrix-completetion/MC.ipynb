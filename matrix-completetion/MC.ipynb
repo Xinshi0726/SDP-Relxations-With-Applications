{
 "cells": [
  {
   "cell_type": "code",
   "execution_count": null,
   "metadata": {},
   "outputs": [],
   "source": [
    "from torchvision import datasets\n",
    "\n",
    "# helpful tools\n",
    "from mc_tools import *"
   ]
  },
  {
   "cell_type": "code",
   "execution_count": null,
   "metadata": {},
   "outputs": [],
   "source": [
    "fashion_data = datasets.FashionMNIST(\n",
    "    root=\"data\",\n",
    "    train=False,\n",
    "    download=True,\n",
    "    transform=ToTensor()\n",
    ")\n",
    "\n",
    "fashionData = fashion_data.data.numpy()"
   ]
  },
  {
   "cell_type": "code",
   "execution_count": null,
   "metadata": {},
   "outputs": [],
   "source": [
    "# images are 28 x 28\n",
    "r, c = 28, 28\n",
    "# percent of points to remove   # TODO: Very arbitrary\n",
    "p = .20 \n",
    "# TODO: Very arbitrary \n",
    "m = 100 \n",
    "\n",
    "\n",
    "# pick a random image in fashionData\n",
    "sample = np.random.randint(0,fashionData.shape[1])\n",
    "# mask it\n",
    "image = mask_image(fashionData[sample], p)\n",
    "# try to unmask it with sdp\n",
    "im = mc_solver(image, m)"
   ]
  },
  {
   "cell_type": "code",
   "execution_count": null,
   "metadata": {},
   "outputs": [],
   "source": [
    "# plot both images"
   ]
  }
 ],
 "metadata": {
  "kernelspec": {
   "display_name": "MC_SDP",
   "language": "python",
   "name": "python3"
  },
  "language_info": {
   "codemirror_mode": {
    "name": "ipython",
    "version": 3
   },
   "file_extension": ".py",
   "mimetype": "text/x-python",
   "name": "python",
   "nbconvert_exporter": "python",
   "pygments_lexer": "ipython3",
   "version": "3.10.10"
  },
  "orig_nbformat": 4
 },
 "nbformat": 4,
 "nbformat_minor": 2
}
